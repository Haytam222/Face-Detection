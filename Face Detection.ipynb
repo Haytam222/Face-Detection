{
 "cells": [
  {
   "cell_type": "markdown",
   "metadata": {},
   "source": [
    "# Face Detection"
   ]
  },
  {
   "cell_type": "code",
   "execution_count": 1,
   "metadata": {},
   "outputs": [],
   "source": [
    "import cv2"
   ]
  },
  {
   "cell_type": "code",
   "execution_count": 2,
   "metadata": {},
   "outputs": [
    {
     "name": "stdout",
     "output_type": "stream",
     "text": [
      "4.3.0\n"
     ]
    }
   ],
   "source": [
    "# print version number\n",
    "print(cv2.__version__)"
   ]
  },
  {
   "cell_type": "markdown",
   "metadata": {},
   "source": [
    "***OpenCV*** provides ***the CascadeClassifier class*** that can be used to create a cascade classifier for face detection. The constructor can take a filename as an argument that specifies the XML file for a pre-trained model."
   ]
  },
  {
   "cell_type": "markdown",
   "metadata": {},
   "source": [
    "Download a pre-trained model for frontal face detection from the OpenCV GitHub project and place it in your current working directory with the filename ***‘haarcascade_frontalface_default.xml‘*** ."
   ]
  },
  {
   "cell_type": "code",
   "execution_count": 3,
   "metadata": {},
   "outputs": [],
   "source": [
    "# load the pre-trained model\n",
    "classifier = cv2.CascadeClassifier('haarcascade_frontalface_default.xml')"
   ]
  },
  {
   "cell_type": "markdown",
   "metadata": {},
   "source": [
    "Once loaded, the model can be used to perform face detection on a photograph by calling ***the detectMultiScale() function*** ."
   ]
  },
  {
   "cell_type": "markdown",
   "metadata": {},
   "source": [
    "This can be achieved by drawing a rectangle for each box directly over the pixels of the loaded image using the ***rectangle() function*** that takes two points."
   ]
  },
  {
   "cell_type": "code",
   "execution_count": 4,
   "metadata": {},
   "outputs": [
    {
     "name": "stdout",
     "output_type": "stream",
     "text": [
      "[266 271 581 581]\n"
     ]
    }
   ],
   "source": [
    "pixels = cv2.imread('Test.jpg')\n",
    "# perform face detection\n",
    "bboxes = classifier.detectMultiScale(pixels)\n",
    "# print bounding box for each detected face\n",
    "for box in bboxes:\n",
    "    print(box)\n",
    "    x, y, width, height = box\n",
    "    x2, y2 = x + width, y + height\n",
    "    # draw a rectangle over the pixels\n",
    "    cv2.rectangle(pixels, (x, y), (x2, y2), (0,0,255), 1)\n",
    "    \n",
    "# show the image\n",
    "cv2.imshow('face detection', pixels)\n",
    "# keep the window open until we press a key\n",
    "cv2.waitKey(0)\n",
    "# close the window\n",
    "cv2.destroyAllWindows()"
   ]
  }
 ],
 "metadata": {
  "kernelspec": {
   "display_name": "Python 3",
   "language": "python",
   "name": "python3"
  },
  "language_info": {
   "codemirror_mode": {
    "name": "ipython",
    "version": 3
   },
   "file_extension": ".py",
   "mimetype": "text/x-python",
   "name": "python",
   "nbconvert_exporter": "python",
   "pygments_lexer": "ipython3",
   "version": "3.7.7"
  }
 },
 "nbformat": 4,
 "nbformat_minor": 4
}
